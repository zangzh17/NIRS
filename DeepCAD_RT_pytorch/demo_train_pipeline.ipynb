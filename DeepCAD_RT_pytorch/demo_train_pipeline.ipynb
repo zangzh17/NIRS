{
 "cells": [
  {
   "cell_type": "markdown",
   "metadata": {},
   "source": [
    "# DeepCAD-RT training pipeline            \n",
    "<img src=\"https://github.com/STAR-811/DeepCAD-RT-old/blob/main/images/logo-new.png?raw=true\" width = \"650\" height = \"180\" align=right />\n",
    "\n",
    "This file will demonstrate the basic pipeline for training DeepCAD-RT. A TIFF file will be downloaded automatically to be the example data. More information about the method and relevant results can be found in the companion paper：\n",
    "\n",
    "**Real-time denoising of fluorescence time-lapse imaging enables high-sensitivity observations of biological dynamics beyond the shot-noise limit. bioRxiv (2022).**"
   ]
  },
  {
   "cell_type": "code",
   "execution_count": 1,
   "metadata": {
    "collapsed": true
   },
   "outputs": [
    {
     "ename": "",
     "evalue": "",
     "output_type": "error",
     "traceback": [
      "\u001b[1;31mThe Kernel crashed while executing code in the current cell or a previous cell. \n",
      "\u001b[1;31mPlease review the code in the cell(s) to identify a possible cause of the failure. \n",
      "\u001b[1;31mClick <a href='https://aka.ms/vscodeJupyterKernelCrash'>here</a> for more info. \n",
      "\u001b[1;31mView Jupyter <a href='command:jupyter.viewOutput'>log</a> for further details."
     ]
    }
   ],
   "source": [
    "from deepcad.train_collection import training_class\n",
    "from deepcad.movie_display import display\n",
    "from deepcad.utils import get_first_filename,download_demo"
   ]
  },
  {
   "cell_type": "markdown",
   "metadata": {},
   "source": [
    "## Select file(s) to be processed (download if not exist)\n",
    "The `download_demo` function will download a demo file and return the full path of it. This demo file will be stored in `/datasets`. If you want to use your own data for training, please create a new folder in `/datasets` and copy your data into it. \n",
    "Then, just change `datasets_path` into the name of your dataset folder. All TIFF files inside the dataset folder will be used for training."
   ]
  },
  {
   "cell_type": "code",
   "execution_count": 2,
   "metadata": {},
   "outputs": [
    {
     "name": "stderr",
     "output_type": "stream",
     "text": [
      "Downloading...\n",
      "From: https://zenodo.org/record/5808571/files/fish_localbrain_demo.zip?download=1\n",
      "To: E:\\01-LYX\\pipPackage\\DeepCAD_RT_pytorch\\notebooks\\datasets\\fish_localbrain_demo.zip\n",
      "100%|███████████████████████████████████████████████████████████████████████████████████████████████████████████████████████████████████████████| 2.54G/2.54G [24:24<00:00, 1.74MB/s]\n",
      "Downloading...\n",
      "From: https://zenodo.org/record/5808571/files/fish_localbrain_E_20_Iter_6175.pth?download=1\n",
      "To: E:\\01-LYX\\pipPackage\\DeepCAD_RT_pytorch\\notebooks\\pth\\fish_localbrain_best_model_demo\\best_model.pth\n",
      "100%|████████████████████████████████████████████████████████████████████████████████████████████████████████████████████████████████████████████| 4.10M/4.10M [00:10<00:00, 393kB/s]\n",
      "Downloading...\n",
      "From: https://zenodo.org/record/5808571/files/fish_localbrain_para.yaml?download=1\n",
      "To: E:\\01-LYX\\pipPackage\\DeepCAD_RT_pytorch\\notebooks\\pth\\fish_localbrain_best_model_demo\\best_model.yaml\n",
      "100%|████████████████████████████████████████████████████████████████████████████████████████████████████████████████████████████████████████████████| 337/337 [00:00<00:00, 338kB/s]\n"
     ]
    }
   ],
   "source": [
    "download_demo_file = True\n",
    "if download_demo_file:\n",
    "    file_name='fish_localbrain' # select the demo file for training (e.g. 'ATP_3D', 'fish_localbrain', 'NP_3D', ...)\n",
    "    datasets_path, _ =download_demo(download_filename=file_name)\n",
    "else:\n",
    "    datasets_path = 'datasets/simulate_-2.51dBSNR_1000frames_demo'  # folder containing files for training"
   ]
  },
  {
   "cell_type": "code",
   "execution_count": 3,
   "metadata": {},
   "outputs": [],
   "source": [
    "file_name='fish_localbrain'\n",
    "datasets_path = 'datasets/fish_localbrain_demo'"
   ]
  },
  {
   "cell_type": "code",
   "execution_count": 7,
   "metadata": {},
   "outputs": [],
   "source": [
    "file_name='record_11062025_153305'\n",
    "datasets_path = 'datasets/mouse'"
   ]
  },
  {
   "cell_type": "markdown",
   "metadata": {},
   "source": [
    "## Set the parameters for training\n",
    "Default setting shows the parameters for the demo file, which are also appropriate for most data. You can change these parameters according to your data and device. To visualize the training process, you can set the flags `visualize_images_per_epoch` and `save_test_images_per_epoch` according to your demands."
   ]
  },
  {
   "cell_type": "code",
   "execution_count": 8,
   "metadata": {
    "collapsed": true
   },
   "outputs": [],
   "source": [
    "n_epochs = 5                # number of training epochs\n",
    "GPU = '0'                   # the index of GPU you will use (e.g. '0', '0,1', '0,1,2')\n",
    "train_datasets_size = 3000  # datasets size for training (how many 3D patches)\n",
    "patch_xy = 150              # the width and height of 3D patches\n",
    "patch_t = 150               # the time dimension (frames) of 3D patches\n",
    "overlap_factor = 0.4        # the overlap factor between two adjacent patches\n",
    "pth_dir = './pth'           # the path for pth file and result images \n",
    "num_workers = 0             # if you use Windows system, set this to 0.\n",
    "\n",
    "# Setup some parameters for result visualization during training period (optional)\n",
    "visualize_images_per_epoch = True  # whether to show result images after each epoch\n",
    "save_test_images_per_epoch = True  # whether to save result images after each epoch"
   ]
  },
  {
   "cell_type": "markdown",
   "metadata": {},
   "source": [
    "##  Show the input low-SNR data  (optional)\n",
    "Play an input video (optional). This will load the video into memory and it is not an indispensable step. OpenCV library was used for display."
   ]
  },
  {
   "cell_type": "code",
   "execution_count": 9,
   "metadata": {},
   "outputs": [
    {
     "name": "stdout",
     "output_type": "stream",
     "text": [
      "\u001b[1;31mDisplaying the first raw file -----> \u001b[0m\n",
      "datasets/mouse/record_11062025_153305.tif\n"
     ]
    }
   ],
   "source": [
    "display_images = True\n",
    "\n",
    "if display_images:\n",
    "    display_filename = get_first_filename(datasets_path)\n",
    "    print('\\033[1;31mDisplaying the first raw file -----> \\033[0m')\n",
    "    print(display_filename)\n",
    "    display_length = 300     # how many frames to display\n",
    "    # normalize the image and display\n",
    "    display(display_filename, display_length=display_length, norm_min_percent=1, norm_max_percent=98)"
   ]
  },
  {
   "cell_type": "markdown",
   "metadata": {},
   "source": [
    "## Create a training object\n",
    "This will creat a training object by passing all parameters as a dictionary. Parameters not specified in the dictionary will use their default values."
   ]
  },
  {
   "cell_type": "code",
   "execution_count": 10,
   "metadata": {},
   "outputs": [
    {
     "name": "stdout",
     "output_type": "stream",
     "text": [
      "\u001b[1;31mTraining parameters -----> \u001b[0m\n",
      "{'overlap_factor': 0.4, 'datasets_path': 'datasets/mouse', 'n_epochs': 5, 'fmap': 16, 'output_dir': './results', 'pth_dir': './pth', 'onnx_dir': './onnx', 'batch_size': 1, 'patch_t': 150, 'patch_x': 150, 'patch_y': 150, 'gap_y': 90, 'gap_x': 90, 'gap_t': 90, 'lr': 5e-05, 'b1': 0.5, 'b2': 0.999, 'GPU': '0', 'ngpu': 1, 'num_workers': 0, 'scale_factor': 1, 'train_datasets_size': 3000, 'select_img_num': 1000000, 'test_datasize': 400, 'visualize_images_per_epoch': True, 'save_test_images_per_epoch': True, 'colab_display': False, 'result_display': ''}\n"
     ]
    }
   ],
   "source": [
    "train_dict = {\n",
    "    # dataset dependent parameters\n",
    "    'patch_x': patch_xy,                          # the width of 3D patches\n",
    "    'patch_y': patch_xy,                          # the height of 3D patches\n",
    "    'patch_t': patch_t,                           # the time dimension (frames) of 3D patches\n",
    "    'overlap_factor':overlap_factor,              # overlap factor\n",
    "    'scale_factor': 1,                            # the factor for image intensity scaling\n",
    "    'select_img_num': 1000000,                    # select the number of frames used for training (use all frames by default)\n",
    "    'train_datasets_size': train_datasets_size,   # datasets size for training (how many 3D patches)\n",
    "    'datasets_path': datasets_path,               # folder containing files for training\n",
    "    'pth_dir': pth_dir,                           # the path for pth file and result images \n",
    "    \n",
    "    # network related parameters\n",
    "    'n_epochs': n_epochs,                         # the number of training epochs\n",
    "    'lr': 0.00005,                                # learning rate\n",
    "    'b1': 0.5,                                    # Adam: bata1\n",
    "    'b2': 0.999,                                  # Adam: bata2\n",
    "    'fmap': 16,                                   # model complexity\n",
    "    'GPU': GPU,                                   # GPU index\n",
    "    'num_workers': num_workers,                   # if you use Windows system, set this to 0.\n",
    "    'visualize_images_per_epoch': visualize_images_per_epoch,   # whether to show result images after each epoch\n",
    "    'save_test_images_per_epoch': save_test_images_per_epoch    # whether to save result images after each epoch\n",
    "}\n",
    "\n",
    "tc = training_class(train_dict)"
   ]
  },
  {
   "cell_type": "markdown",
   "metadata": {},
   "source": [
    "## Start the training process\n",
    "\n",
    "Here we lanuch the training process. The model of each epoch will be saved in the `/pth` folder."
   ]
  },
  {
   "cell_type": "code",
   "execution_count": 11,
   "metadata": {},
   "outputs": [
    {
     "name": "stdout",
     "output_type": "stream",
     "text": [
      "\u001b[1;31mImage list for training -----> \u001b[0m\n",
      "Total stack number ----->  1\n",
      "Noise image name ----->  record_11062025_153305.tif\n",
      "Noise image shape ----->  (1995, 512, 640)\n",
      "\u001b[1;31mUsing 1 GPU(s) for training -----> \u001b[0m\n",
      "[Epoch 1/5] [Batch 3000/3000] [Total loss: 422759.44, L1 Loss: 714.18, L2 Loss: 844804.69] [ETA: 0:19:36] [Time cost: 317 s]      \n",
      " Testing model of epoch 1 on the first noisy file ----->\n",
      "Testing image name ----->  record_11062025_153305.tif\n",
      "Testing image shape ----->  (400, 512, 640)\n",
      " [Patch 168/168] [Time Cost: 7 s] [ETA: 0 s]      \n",
      " Displaying the first denoised file ----->\n",
      "\n",
      "[Epoch 2/5] [Batch 3000/3000] [Total loss: 383392.12, L1 Loss: 685.01, L2 Loss: 766099.25] [ETA: 0:14:33] [Time cost: 654 s]            \n",
      " Testing model of epoch 2 on the first noisy file ----->\n",
      "Testing image name ----->  record_11062025_153305.tif\n",
      "Testing image shape ----->  (400, 512, 640)\n",
      " [Patch 168/168] [Time Cost: 7 s] [ETA: 0 s]      \n",
      " Displaying the first denoised file ----->\n",
      "\n",
      "[Epoch 3/5] [Batch 3000/3000] [Total loss: 402287.25, L1 Loss: 698.26, L2 Loss: 803876.25] [ETA: 0:09:51] [Time cost: 982 s]            \n",
      " Testing model of epoch 3 on the first noisy file ----->\n",
      "Testing image name ----->  record_11062025_153305.tif\n",
      "Testing image shape ----->  (400, 512, 640)\n",
      " [Patch 168/168] [Time Cost: 7 s] [ETA: 0 s]      \n",
      " Displaying the first denoised file ----->\n",
      "\n",
      "[Epoch 4/5] [Batch 3000/3000] [Total loss: 372708.72, L1 Loss: 674.47, L2 Loss: 744742.94] [ETA: 0:05:09] [Time cost: 1317 s]           \n",
      " Testing model of epoch 4 on the first noisy file ----->\n",
      "Testing image name ----->  record_11062025_153305.tif\n",
      "Testing image shape ----->  (400, 512, 640)\n",
      " [Patch 168/168] [Time Cost: 7 s] [ETA: 0 s]      \n",
      " Displaying the first denoised file ----->\n",
      "\n",
      "[Epoch 5/5] [Batch 3000/3000] [Total loss: 365814.44, L1 Loss: 669.04, L2 Loss: 730959.81] [ETA: 0:00:00] [Time cost: 1647 s]      \n",
      " Testing model of epoch 5 on the first noisy file ----->\n",
      "Testing image name ----->  record_11062025_153305.tif\n",
      "Testing image shape ----->  (400, 512, 640)\n",
      " [Patch 168/168] [Time Cost: 7 s] [ETA: 0 s]      \n",
      " Displaying the first denoised file ----->\n",
      "\n",
      " Training finished. All models saved to disk.\n"
     ]
    }
   ],
   "source": [
    "tc.run()"
   ]
  }
 ],
 "metadata": {
  "kernelspec": {
   "display_name": "base",
   "language": "python",
   "name": "python3"
  },
  "language_info": {
   "codemirror_mode": {
    "name": "ipython",
    "version": 3
   },
   "file_extension": ".py",
   "mimetype": "text/x-python",
   "name": "python",
   "nbconvert_exporter": "python",
   "pygments_lexer": "ipython3",
   "version": "3.11.7"
  },
  "toc": {
   "base_numbering": 1,
   "nav_menu": {},
   "number_sections": true,
   "sideBar": true,
   "skip_h1_title": false,
   "title_cell": "Table of Contents",
   "title_sidebar": "Contents",
   "toc_cell": false,
   "toc_position": {},
   "toc_section_display": true,
   "toc_window_display": false
  },
  "varInspector": {
   "cols": {
    "lenName": 16,
    "lenType": 16,
    "lenVar": 40
   },
   "kernels_config": {
    "python": {
     "delete_cmd_postfix": "",
     "delete_cmd_prefix": "del ",
     "library": "var_list.py",
     "varRefreshCmd": "print(var_dic_list())"
    },
    "r": {
     "delete_cmd_postfix": ") ",
     "delete_cmd_prefix": "rm(",
     "library": "var_list.r",
     "varRefreshCmd": "cat(var_dic_list()) "
    }
   },
   "types_to_exclude": [
    "module",
    "function",
    "builtin_function_or_method",
    "instance",
    "_Feature"
   ],
   "window_display": false
  }
 },
 "nbformat": 4,
 "nbformat_minor": 2
}
